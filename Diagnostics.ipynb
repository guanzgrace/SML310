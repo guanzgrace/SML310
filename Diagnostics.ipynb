{
 "cells": [
  {
   "cell_type": "markdown",
   "metadata": {},
   "source": [
    "1. In any language, write a function that takes in a list (or a vector in R) of numbers, and returns the average of all the numbers in the list/vector that are smaller than 120.\n",
    "\n",
    "2. In any language, write a function that takes in a list (or a vector in R) of numbers, and returns the average of all the numbers in the list/vector between the first and the second occurrence of 120. For example, avg120120([1, 120, 6, 2, 1, 120, 70, 120, 40]) should return the average of [6, 2, 1] (i.e., 3).\n",
    "\n"
   ]
  },
  {
   "cell_type": "code",
   "execution_count": 1,
   "metadata": {},
   "outputs": [],
   "source": [
    "import numpy as np"
   ]
  },
  {
   "cell_type": "code",
   "execution_count": 2,
   "metadata": {},
   "outputs": [],
   "source": [
    "# preconditions for average_smaller_than_k and between_two_k_values:\n",
    "# vec has type list"
   ]
  },
  {
   "cell_type": "code",
   "execution_count": 3,
   "metadata": {},
   "outputs": [],
   "source": [
    "def average_smaller_than_k(vec, k):\n",
    "    if k <= min(vec):\n",
    "        return 0\n",
    "    return np.mean([*filter(lambda x: x < k, vec)])"
   ]
  },
  {
   "cell_type": "code",
   "execution_count": 4,
   "metadata": {},
   "outputs": [],
   "source": [
    "vec_1 = (1, 2, 3, 4)\n",
    "assert average_smaller_than_k(vec_1, -1) == 0\n",
    "assert average_smaller_than_k(vec_1, 0) == 0\n",
    "assert average_smaller_than_k(vec_1, 1) == 0\n",
    "assert average_smaller_than_k(vec_1, 2) == 1\n",
    "assert average_smaller_than_k(vec_1, 3) == 1.5\n",
    "assert average_smaller_than_k(vec_1, 4) == 2\n",
    "assert average_smaller_than_k(vec_1, 5) == 2.5"
   ]
  },
  {
   "cell_type": "code",
   "execution_count": 5,
   "metadata": {},
   "outputs": [],
   "source": [
    "def average_between_two_k(vec, k):\n",
    "    indices = (i for i, v in enumerate(vec) if v == k)\n",
    "    try:\n",
    "        start = next(indices)\n",
    "        stop = next(indices)\n",
    "    except StopIteration:\n",
    "        print(\"there weren't two %d values in list\" % (k))\n",
    "        return 0\n",
    "    return np.mean(vec[start + 1:stop])"
   ]
  },
  {
   "cell_type": "code",
   "execution_count": 6,
   "metadata": {},
   "outputs": [
    {
     "name": "stdout",
     "output_type": "stream",
     "text": [
      "there weren't two 70 values in list\n",
      "there weren't two 6 values in list\n",
      "there weren't two 2 values in list\n",
      "there weren't two 40 values in list\n",
      "there weren't two -1 values in list\n"
     ]
    }
   ],
   "source": [
    "vec_2 = (1, 120, 6, 2, 1, 120, 70, 120, 40)\n",
    "assert average_between_two_k(vec_2, 120) == 3\n",
    "assert average_between_two_k(vec_2, 1) > 42\n",
    "assert average_between_two_k(vec_2, 1) < 43\n",
    "assert average_between_two_k(vec_2, 70) == 0\n",
    "assert average_between_two_k(vec_2, 6) == 0\n",
    "assert average_between_two_k(vec_2, 2) == 0\n",
    "assert average_between_two_k(vec_2, 40) == 0\n",
    "assert average_between_two_k(vec_2, -1) == 0"
   ]
  },
  {
   "cell_type": "code",
   "execution_count": null,
   "metadata": {},
   "outputs": [],
   "source": []
  }
 ],
 "metadata": {
  "kernelspec": {
   "display_name": "Python 3",
   "language": "python",
   "name": "python3"
  },
  "language_info": {
   "codemirror_mode": {
    "name": "ipython",
    "version": 3
   },
   "file_extension": ".py",
   "mimetype": "text/x-python",
   "name": "python",
   "nbconvert_exporter": "python",
   "pygments_lexer": "ipython3",
   "version": "3.6.5"
  }
 },
 "nbformat": 4,
 "nbformat_minor": 2
}
